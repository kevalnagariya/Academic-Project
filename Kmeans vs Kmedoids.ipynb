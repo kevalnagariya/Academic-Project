{
 "cells": [
  {
   "cell_type": "code",
   "execution_count": 1,
   "metadata": {},
   "outputs": [
    {
     "name": "stdout",
     "output_type": "stream",
     "text": [
      "[[5.1 3.5 1.4 0.2]\n",
      " [4.9 3.  1.4 0.2]\n",
      " [4.7 3.2 1.3 0.2]\n",
      " [4.6 3.1 1.5 0.2]\n",
      " [5.  3.6 1.4 0.2]\n",
      " [5.4 3.9 1.7 0.4]\n",
      " [4.6 3.4 1.4 0.3]\n",
      " [5.  3.4 1.5 0.2]\n",
      " [4.4 2.9 1.4 0.2]\n",
      " [4.9 3.1 1.5 0.1]\n",
      " [5.4 3.7 1.5 0.2]\n",
      " [4.8 3.4 1.6 0.2]\n",
      " [4.8 3.  1.4 0.1]\n",
      " [4.3 3.  1.1 0.1]\n",
      " [5.8 4.  1.2 0.2]\n",
      " [5.7 4.4 1.5 0.4]\n",
      " [5.4 3.9 1.3 0.4]\n",
      " [5.1 3.5 1.4 0.3]\n",
      " [5.7 3.8 1.7 0.3]\n",
      " [5.1 3.8 1.5 0.3]\n",
      " [5.4 3.4 1.7 0.2]\n",
      " [5.1 3.7 1.5 0.4]\n",
      " [4.6 3.6 1.  0.2]\n",
      " [5.1 3.3 1.7 0.5]\n",
      " [4.8 3.4 1.9 0.2]\n",
      " [5.  3.  1.6 0.2]\n",
      " [5.  3.4 1.6 0.4]\n",
      " [5.2 3.5 1.5 0.2]\n",
      " [5.2 3.4 1.4 0.2]\n",
      " [4.7 3.2 1.6 0.2]\n",
      " [4.8 3.1 1.6 0.2]\n",
      " [5.4 3.4 1.5 0.4]\n",
      " [5.2 4.1 1.5 0.1]\n",
      " [5.5 4.2 1.4 0.2]\n",
      " [4.9 3.1 1.5 0.2]\n",
      " [5.  3.2 1.2 0.2]\n",
      " [5.5 3.5 1.3 0.2]\n",
      " [4.9 3.6 1.4 0.1]\n",
      " [4.4 3.  1.3 0.2]\n",
      " [5.1 3.4 1.5 0.2]\n",
      " [5.  3.5 1.3 0.3]\n",
      " [4.5 2.3 1.3 0.3]\n",
      " [4.4 3.2 1.3 0.2]\n",
      " [5.  3.5 1.6 0.6]\n",
      " [5.1 3.8 1.9 0.4]\n",
      " [4.8 3.  1.4 0.3]\n",
      " [5.1 3.8 1.6 0.2]\n",
      " [4.6 3.2 1.4 0.2]\n",
      " [5.3 3.7 1.5 0.2]\n",
      " [5.  3.3 1.4 0.2]\n",
      " [7.  3.2 4.7 1.4]\n",
      " [6.4 3.2 4.5 1.5]\n",
      " [6.9 3.1 4.9 1.5]\n",
      " [5.5 2.3 4.  1.3]\n",
      " [6.5 2.8 4.6 1.5]\n",
      " [5.7 2.8 4.5 1.3]\n",
      " [6.3 3.3 4.7 1.6]\n",
      " [4.9 2.4 3.3 1. ]\n",
      " [6.6 2.9 4.6 1.3]\n",
      " [5.2 2.7 3.9 1.4]\n",
      " [5.  2.  3.5 1. ]\n",
      " [5.9 3.  4.2 1.5]\n",
      " [6.  2.2 4.  1. ]\n",
      " [6.1 2.9 4.7 1.4]\n",
      " [5.6 2.9 3.6 1.3]\n",
      " [6.7 3.1 4.4 1.4]\n",
      " [5.6 3.  4.5 1.5]\n",
      " [5.8 2.7 4.1 1. ]\n",
      " [6.2 2.2 4.5 1.5]\n",
      " [5.6 2.5 3.9 1.1]\n",
      " [5.9 3.2 4.8 1.8]\n",
      " [6.1 2.8 4.  1.3]\n",
      " [6.3 2.5 4.9 1.5]\n",
      " [6.1 2.8 4.7 1.2]\n",
      " [6.4 2.9 4.3 1.3]\n",
      " [6.6 3.  4.4 1.4]\n",
      " [6.8 2.8 4.8 1.4]\n",
      " [6.7 3.  5.  1.7]\n",
      " [6.  2.9 4.5 1.5]\n",
      " [5.7 2.6 3.5 1. ]\n",
      " [5.5 2.4 3.8 1.1]\n",
      " [5.5 2.4 3.7 1. ]\n",
      " [5.8 2.7 3.9 1.2]\n",
      " [6.  2.7 5.1 1.6]\n",
      " [5.4 3.  4.5 1.5]\n",
      " [6.  3.4 4.5 1.6]\n",
      " [6.7 3.1 4.7 1.5]\n",
      " [6.3 2.3 4.4 1.3]\n",
      " [5.6 3.  4.1 1.3]\n",
      " [5.5 2.5 4.  1.3]\n",
      " [5.5 2.6 4.4 1.2]\n",
      " [6.1 3.  4.6 1.4]\n",
      " [5.8 2.6 4.  1.2]\n",
      " [5.  2.3 3.3 1. ]\n",
      " [5.6 2.7 4.2 1.3]\n",
      " [5.7 3.  4.2 1.2]\n",
      " [5.7 2.9 4.2 1.3]\n",
      " [6.2 2.9 4.3 1.3]\n",
      " [5.1 2.5 3.  1.1]\n",
      " [5.7 2.8 4.1 1.3]\n",
      " [6.3 3.3 6.  2.5]\n",
      " [5.8 2.7 5.1 1.9]\n",
      " [7.1 3.  5.9 2.1]\n",
      " [6.3 2.9 5.6 1.8]\n",
      " [6.5 3.  5.8 2.2]\n",
      " [7.6 3.  6.6 2.1]\n",
      " [4.9 2.5 4.5 1.7]\n",
      " [7.3 2.9 6.3 1.8]\n",
      " [6.7 2.5 5.8 1.8]\n",
      " [7.2 3.6 6.1 2.5]\n",
      " [6.5 3.2 5.1 2. ]\n",
      " [6.4 2.7 5.3 1.9]\n",
      " [6.8 3.  5.5 2.1]\n",
      " [5.7 2.5 5.  2. ]\n",
      " [5.8 2.8 5.1 2.4]\n",
      " [6.4 3.2 5.3 2.3]\n",
      " [6.5 3.  5.5 1.8]\n",
      " [7.7 3.8 6.7 2.2]\n",
      " [7.7 2.6 6.9 2.3]\n",
      " [6.  2.2 5.  1.5]\n",
      " [6.9 3.2 5.7 2.3]\n",
      " [5.6 2.8 4.9 2. ]\n",
      " [7.7 2.8 6.7 2. ]\n",
      " [6.3 2.7 4.9 1.8]\n",
      " [6.7 3.3 5.7 2.1]\n",
      " [7.2 3.2 6.  1.8]\n",
      " [6.2 2.8 4.8 1.8]\n",
      " [6.1 3.  4.9 1.8]\n",
      " [6.4 2.8 5.6 2.1]\n",
      " [7.2 3.  5.8 1.6]\n",
      " [7.4 2.8 6.1 1.9]\n",
      " [7.9 3.8 6.4 2. ]\n",
      " [6.4 2.8 5.6 2.2]\n",
      " [6.3 2.8 5.1 1.5]\n",
      " [6.1 2.6 5.6 1.4]\n",
      " [7.7 3.  6.1 2.3]\n",
      " [6.3 3.4 5.6 2.4]\n",
      " [6.4 3.1 5.5 1.8]\n",
      " [6.  3.  4.8 1.8]\n",
      " [6.9 3.1 5.4 2.1]\n",
      " [6.7 3.1 5.6 2.4]\n",
      " [6.9 3.1 5.1 2.3]\n",
      " [5.8 2.7 5.1 1.9]\n",
      " [6.8 3.2 5.9 2.3]\n",
      " [6.7 3.3 5.7 2.5]\n",
      " [6.7 3.  5.2 2.3]\n",
      " [6.3 2.5 5.  1.9]\n",
      " [6.5 3.  5.2 2. ]\n",
      " [6.2 3.4 5.4 2.3]\n",
      " [5.9 3.  5.1 1.8]]\n"
     ]
    }
   ],
   "source": [
    "# Importing the libraries\n",
    "import numpy as np\n",
    "import matplotlib.pyplot as plt\n",
    "import pandas as pd\n",
    "from sklearn import datasets\n",
    "import matplotlib.patches as mpatches\n",
    "\n",
    "# Load the iris dataset\n",
    "iris = datasets.load_iris()\n",
    "print(iris.data)"
   ]
  },
  {
   "cell_type": "code",
   "execution_count": 2,
   "metadata": {},
   "outputs": [
    {
     "name": "stdout",
     "output_type": "stream",
     "text": [
      "['setosa' 'versicolor' 'virginica']\n"
     ]
    }
   ],
   "source": [
    "print(iris.target_names)"
   ]
  },
  {
   "cell_type": "code",
   "execution_count": 3,
   "metadata": {},
   "outputs": [
    {
     "name": "stdout",
     "output_type": "stream",
     "text": [
      "[0 0 0 0 0 0 0 0 0 0 0 0 0 0 0 0 0 0 0 0 0 0 0 0 0 0 0 0 0 0 0 0 0 0 0 0 0\n",
      " 0 0 0 0 0 0 0 0 0 0 0 0 0 1 1 1 1 1 1 1 1 1 1 1 1 1 1 1 1 1 1 1 1 1 1 1 1\n",
      " 1 1 1 1 1 1 1 1 1 1 1 1 1 1 1 1 1 1 1 1 1 1 1 1 1 1 2 2 2 2 2 2 2 2 2 2 2\n",
      " 2 2 2 2 2 2 2 2 2 2 2 2 2 2 2 2 2 2 2 2 2 2 2 2 2 2 2 2 2 2 2 2 2 2 2 2 2\n",
      " 2 2]\n"
     ]
    }
   ],
   "source": [
    "print(iris.target)"
   ]
  },
  {
   "cell_type": "code",
   "execution_count": 4,
   "metadata": {},
   "outputs": [],
   "source": [
    "x = pd.DataFrame(iris.data, columns=['Sepal Length', 'Sepal Width', 'Petal Length', 'Petal Width'])\n",
    "#x.drop(['Petal Length', 'Petal Width'],axis=1,inplace=True) \n",
    "#x.drop(['Sepal Length', 'Sepal Width'],axis=1,inplace=True) \n",
    "y = pd.DataFrame(iris.target, columns=['Target'])"
   ]
  },
  {
   "cell_type": "code",
   "execution_count": 5,
   "metadata": {},
   "outputs": [
    {
     "data": {
      "text/html": [
       "<div>\n",
       "<style scoped>\n",
       "    .dataframe tbody tr th:only-of-type {\n",
       "        vertical-align: middle;\n",
       "    }\n",
       "\n",
       "    .dataframe tbody tr th {\n",
       "        vertical-align: top;\n",
       "    }\n",
       "\n",
       "    .dataframe thead th {\n",
       "        text-align: right;\n",
       "    }\n",
       "</style>\n",
       "<table border=\"1\" class=\"dataframe\">\n",
       "  <thead>\n",
       "    <tr style=\"text-align: right;\">\n",
       "      <th></th>\n",
       "      <th>Sepal Length</th>\n",
       "      <th>Sepal Width</th>\n",
       "      <th>Petal Length</th>\n",
       "      <th>Petal Width</th>\n",
       "    </tr>\n",
       "  </thead>\n",
       "  <tbody>\n",
       "    <tr>\n",
       "      <th>0</th>\n",
       "      <td>5.1</td>\n",
       "      <td>3.5</td>\n",
       "      <td>1.4</td>\n",
       "      <td>0.2</td>\n",
       "    </tr>\n",
       "    <tr>\n",
       "      <th>1</th>\n",
       "      <td>4.9</td>\n",
       "      <td>3.0</td>\n",
       "      <td>1.4</td>\n",
       "      <td>0.2</td>\n",
       "    </tr>\n",
       "    <tr>\n",
       "      <th>2</th>\n",
       "      <td>4.7</td>\n",
       "      <td>3.2</td>\n",
       "      <td>1.3</td>\n",
       "      <td>0.2</td>\n",
       "    </tr>\n",
       "    <tr>\n",
       "      <th>3</th>\n",
       "      <td>4.6</td>\n",
       "      <td>3.1</td>\n",
       "      <td>1.5</td>\n",
       "      <td>0.2</td>\n",
       "    </tr>\n",
       "    <tr>\n",
       "      <th>4</th>\n",
       "      <td>5.0</td>\n",
       "      <td>3.6</td>\n",
       "      <td>1.4</td>\n",
       "      <td>0.2</td>\n",
       "    </tr>\n",
       "  </tbody>\n",
       "</table>\n",
       "</div>"
      ],
      "text/plain": [
       "   Sepal Length  Sepal Width  Petal Length  Petal Width\n",
       "0           5.1          3.5           1.4          0.2\n",
       "1           4.9          3.0           1.4          0.2\n",
       "2           4.7          3.2           1.3          0.2\n",
       "3           4.6          3.1           1.5          0.2\n",
       "4           5.0          3.6           1.4          0.2"
      ]
     },
     "execution_count": 5,
     "metadata": {},
     "output_type": "execute_result"
    }
   ],
   "source": [
    "x.head()"
   ]
  },
  {
   "cell_type": "code",
   "execution_count": 6,
   "metadata": {},
   "outputs": [
    {
     "data": {
      "text/plain": [
       "(150, 4)"
      ]
     },
     "execution_count": 6,
     "metadata": {},
     "output_type": "execute_result"
    }
   ],
   "source": [
    "x.shape"
   ]
  },
  {
   "cell_type": "code",
   "execution_count": 7,
   "metadata": {},
   "outputs": [
    {
     "data": {
      "text/html": [
       "<div>\n",
       "<style scoped>\n",
       "    .dataframe tbody tr th:only-of-type {\n",
       "        vertical-align: middle;\n",
       "    }\n",
       "\n",
       "    .dataframe tbody tr th {\n",
       "        vertical-align: top;\n",
       "    }\n",
       "\n",
       "    .dataframe thead th {\n",
       "        text-align: right;\n",
       "    }\n",
       "</style>\n",
       "<table border=\"1\" class=\"dataframe\">\n",
       "  <thead>\n",
       "    <tr style=\"text-align: right;\">\n",
       "      <th></th>\n",
       "      <th>Target</th>\n",
       "    </tr>\n",
       "  </thead>\n",
       "  <tbody>\n",
       "    <tr>\n",
       "      <th>0</th>\n",
       "      <td>0</td>\n",
       "    </tr>\n",
       "    <tr>\n",
       "      <th>1</th>\n",
       "      <td>0</td>\n",
       "    </tr>\n",
       "    <tr>\n",
       "      <th>2</th>\n",
       "      <td>0</td>\n",
       "    </tr>\n",
       "    <tr>\n",
       "      <th>3</th>\n",
       "      <td>0</td>\n",
       "    </tr>\n",
       "    <tr>\n",
       "      <th>4</th>\n",
       "      <td>0</td>\n",
       "    </tr>\n",
       "  </tbody>\n",
       "</table>\n",
       "</div>"
      ],
      "text/plain": [
       "   Target\n",
       "0       0\n",
       "1       0\n",
       "2       0\n",
       "3       0\n",
       "4       0"
      ]
     },
     "execution_count": 7,
     "metadata": {},
     "output_type": "execute_result"
    }
   ],
   "source": [
    "y.head()"
   ]
  },
  {
   "cell_type": "code",
   "execution_count": 8,
   "metadata": {},
   "outputs": [
    {
     "data": {
      "text/plain": [
       "(150, 1)"
      ]
     },
     "execution_count": 8,
     "metadata": {},
     "output_type": "execute_result"
    }
   ],
   "source": [
    "y.shape"
   ]
  },
  {
   "cell_type": "markdown",
   "metadata": {},
   "source": [
    "# K-means"
   ]
  },
  {
   "cell_type": "code",
   "execution_count": 9,
   "metadata": {},
   "outputs": [
    {
     "data": {
      "image/png": "[encoded data removed]",
      "text/plain": [
       "<Figure size 432x288 with 1 Axes>"
      ]
     },
     "metadata": {
      "needs_background": "light"
     },
     "output_type": "display_data"
    }
   ],
   "source": [
    "# Finding the optimum number of clusters for k-means\n",
    "\n",
    "from sklearn.cluster import KMeans\n",
    "Sum_of_squared_distances = []\n",
    "K = range(1,11)\n",
    "for num_clusters in K :\n",
    "    kmeans = KMeans(n_clusters=num_clusters)\n",
    "    kmeans.fit(x)\n",
    "    Sum_of_squared_distances.append(kmeans.inertia_)\n",
    "plt.plot(K,Sum_of_squared_distances,'bx-')\n",
    "plt.xlabel('Values of K') \n",
    "plt.ylabel('Sum of squared distances/Inertia') \n",
    "plt.title('Elbow Method For Optimal k')\n",
    "plt.show()"
   ]
  },
  {
   "cell_type": "code",
   "execution_count": 10,
   "metadata": {},
   "outputs": [
    {
     "data": {
      "image/png": "[encoded data removed]",
      "text/plain": [
       "<Figure size 432x288 with 1 Axes>"
      ]
     },
     "metadata": {
      "needs_background": "light"
     },
     "output_type": "display_data"
    }
   ],
   "source": [
    "from sklearn.metrics import silhouette_score\n",
    "K = range(2,11)\n",
    "silhouette_avg = []\n",
    "for i in K:\n",
    "    # initialise kmeans\n",
    "    kmeans = KMeans(n_clusters=i)\n",
    "    kmeans.fit(x)\n",
    "    cluster_labels = kmeans.labels_\n",
    "    # silhouette score\n",
    "    silhouette_avg.append(silhouette_score(x, cluster_labels))\n",
    "plt.plot(K,silhouette_avg,'bx-')\n",
    "plt.xlabel('Values of K') \n",
    "plt.ylabel('Silhouette score') \n",
    "plt.title('Silhouette analysis For Optimal k')\n",
    "plt.show()"
   ]
  },
  {
   "cell_type": "code",
   "execution_count": 11,
   "metadata": {},
   "outputs": [
    {
     "name": "stdout",
     "output_type": "stream",
     "text": [
      "Silhouetter Score: 0.3\n"
     ]
    }
   ],
   "source": [
    "# Calculate Silhoutte Score\n",
    "score = silhouette_score(x, kmeans.labels_, metric='euclidean')\n",
    "# Print the score\n",
    "print('Silhouetter Score: %.1f' % score)"
   ]
  },
  {
   "cell_type": "code",
   "execution_count": 12,
   "metadata": {},
   "outputs": [],
   "source": [
    "# Applying kmeans to the dataset \n",
    "kmeans = KMeans(n_clusters = 3, init = 'k-means++',\n",
    "                max_iter = 300, random_state = 3)\n",
    "y_kmeans = kmeans.fit(x)"
   ]
  },
  {
   "cell_type": "code",
   "execution_count": 13,
   "metadata": {},
   "outputs": [
    {
     "data": {
      "text/plain": [
       "KMeans(n_clusters=3, random_state=3)"
      ]
     },
     "execution_count": 13,
     "metadata": {},
     "output_type": "execute_result"
    }
   ],
   "source": [
    "y_kmeans"
   ]
  },
  {
   "cell_type": "code",
   "execution_count": 14,
   "metadata": {},
   "outputs": [
    {
     "data": {
      "text/plain": [
       "<matplotlib.legend.Legend at 0x25d1dbeb9d0>"
      ]
     },
     "execution_count": 14,
     "metadata": {},
     "output_type": "execute_result"
    },
    {
     "data": {
      "image/png": "[encoded data removed]",
      "text/plain": [
       "<Figure size 1080x432 with 2 Axes>"
      ]
     },
     "metadata": {
      "needs_background": "light"
     },
     "output_type": "display_data"
    }
   ],
   "source": [
    "plt.figure(figsize=(15,6))\n",
    "colors = np.array(['red', 'green', 'blue'])\n",
    "iris_targets_legend = np.array(iris.target_names)\n",
    "red_patch = mpatches.Patch(color='red', label='Setosa')\n",
    "green_patch = mpatches.Patch(color='green', label='Versicolor')\n",
    "blue_patch = mpatches.Patch(color='blue', label='Virginica')\n",
    "\n",
    "# Plotting the centroids of the clusters\n",
    "plt.subplot(1,2,1)\n",
    "plt.scatter(x['Sepal Length'], x['Sepal Width'], c=colors[y['Target']])\n",
    "plt.scatter(kmeans.cluster_centers_[:, 0], kmeans.cluster_centers_[:,1], \n",
    "            s = 100, c = 'yellow', label = 'Centroids')\n",
    "plt.title('Sepal Length vs Sepal Width')\n",
    "plt.legend(handles=[red_patch, green_patch, blue_patch])\n",
    "\n",
    "plt.subplot(1,2,2)\n",
    "plt.scatter(x['Petal Length'], x['Petal Width'], c=colors[y['Target']])\n",
    "plt.scatter(kmeans.cluster_centers_[:, 2], kmeans.cluster_centers_[:,3], \n",
    "            s = 100, c = 'yellow', label = 'Centroids')\n",
    "plt.title('Petal Length vs Petal Width')\n",
    "plt.legend(handles=[red_patch, green_patch, blue_patch])"
   ]
  },
  {
   "cell_type": "code",
   "execution_count": 15,
   "metadata": {},
   "outputs": [
    {
     "name": "stdout",
     "output_type": "stream",
     "text": [
      "[[5.006      3.428      1.462      0.246     ]\n",
      " [5.9016129  2.7483871  4.39354839 1.43387097]\n",
      " [6.85       3.07368421 5.74210526 2.07105263]]\n"
     ]
    }
   ],
   "source": [
    "print(y_kmeans.cluster_centers_)"
   ]
  },
  {
   "cell_type": "code",
   "execution_count": 16,
   "metadata": {},
   "outputs": [
    {
     "name": "stdout",
     "output_type": "stream",
     "text": [
      "[0 0 0 0 0 0 0 0 0 0 0 0 0 0 0 0 0 0 0 0 0 0 0 0 0 0 0 0 0 0 0 0 0 0 0 0 0\n",
      " 0 0 0 0 0 0 0 0 0 0 0 0 0 1 1 2 1 1 1 1 1 1 1 1 1 1 1 1 1 1 1 1 1 1 1 1 1\n",
      " 1 1 1 2 1 1 1 1 1 1 1 1 1 1 1 1 1 1 1 1 1 1 1 1 1 1 2 1 2 2 2 2 1 2 2 2 2\n",
      " 2 2 1 1 2 2 2 2 1 2 1 2 1 2 2 1 1 2 2 2 2 2 1 2 2 2 2 1 2 2 2 1 2 2 2 1 2\n",
      " 2 1]\n"
     ]
    }
   ],
   "source": [
    "print(y_kmeans.labels_)"
   ]
  },
  {
   "cell_type": "code",
   "execution_count": 17,
   "metadata": {},
   "outputs": [
    {
     "data": {
      "text/plain": [
       "array([0, 0, 0, 0, 0, 0, 0, 0, 0, 0, 0, 0, 0, 0, 0, 0, 0, 0, 0, 0, 0, 0,\n",
       "       0, 0, 0, 0, 0, 0, 0, 0, 0, 0, 0, 0, 0, 0, 0, 0, 0, 0, 0, 0, 0, 0,\n",
       "       0, 0, 0, 0, 0, 0, 1, 1, 2, 1, 1, 1, 1, 1, 1, 1, 1, 1, 1, 1, 1, 1,\n",
       "       1, 1, 1, 1, 1, 1, 1, 1, 1, 1, 1, 2, 1, 1, 1, 1, 1, 1, 1, 1, 1, 1,\n",
       "       1, 1, 1, 1, 1, 1, 1, 1, 1, 1, 1, 1, 2, 1, 2, 2, 2, 2, 1, 2, 2, 2,\n",
       "       2, 2, 2, 1, 1, 2, 2, 2, 2, 1, 2, 1, 2, 1, 2, 2, 1, 1, 2, 2, 2, 2,\n",
       "       2, 1, 2, 2, 2, 2, 1, 2, 2, 2, 1, 2, 2, 2, 1, 2, 2, 1], dtype=int64)"
      ]
     },
     "execution_count": 17,
     "metadata": {},
     "output_type": "execute_result"
    }
   ],
   "source": [
    "y1_pred = np.choose(y_kmeans.labels_, [0, 1, 2]).astype(np.int64)\n",
    "y1_pred"
   ]
  },
  {
   "cell_type": "code",
   "execution_count": 18,
   "metadata": {},
   "outputs": [
    {
     "name": "stdout",
     "output_type": "stream",
     "text": [
      "The Accuracy of Kmeans is: 0.8933333333333333\n"
     ]
    },
    {
     "data": {
      "text/plain": [
       "array([[50,  0,  0],\n",
       "       [ 0, 48,  2],\n",
       "       [ 0, 14, 36]], dtype=int64)"
      ]
     },
     "execution_count": 18,
     "metadata": {},
     "output_type": "execute_result"
    }
   ],
   "source": [
    "from sklearn.metrics import accuracy_score, confusion_matrix\n",
    "print(\"The Accuracy of Kmeans is:\",accuracy_score(y, y1_pred))\n",
    "confusion_matrix(y, y1_pred)"
   ]
  },
  {
   "cell_type": "markdown",
   "metadata": {},
   "source": [
    "Total Predictions = 50, TN = 48, FN = 14, FP = 2, TP = 36"
   ]
  },
  {
   "cell_type": "markdown",
   "metadata": {},
   "source": [
    "# K-medoids"
   ]
  },
  {
   "cell_type": "code",
   "execution_count": 19,
   "metadata": {},
   "outputs": [
    {
     "data": {
      "image/png": "[encoded data removed]",
      "text/plain": [
       "<Figure size 432x288 with 1 Axes>"
      ]
     },
     "metadata": {
      "needs_background": "light"
     },
     "output_type": "display_data"
    }
   ],
   "source": [
    "# Finding the optimum number of clusters for k-medoids\n",
    "\n",
    "from sklearn_extra.cluster import KMedoids\n",
    "\n",
    "cost = []\n",
    "K = range(1,11)\n",
    "for i in K :\n",
    "    kmedoids = KMedoids(n_clusters=i)\n",
    "    kmedoids.fit(x)\n",
    "    cost.append(kmedoids.inertia_)\n",
    "plt.plot(K,cost,'bx-')\n",
    "plt.xlabel('Values of K') \n",
    "plt.ylabel('Sum of squared distances/Inertia') \n",
    "plt.title('Elbow Method For Optimal k')\n",
    "plt.show()"
   ]
  },
  {
   "cell_type": "code",
   "execution_count": 20,
   "metadata": {},
   "outputs": [
    {
     "data": {
      "image/png": "[encoded data removed]",
      "text/plain": [
       "<Figure size 432x288 with 1 Axes>"
      ]
     },
     "metadata": {
      "needs_background": "light"
     },
     "output_type": "display_data"
    }
   ],
   "source": [
    "silhouette_avg = []\n",
    "K = range(2,11)\n",
    "for i in K:\n",
    "    # initialise kmedoids\n",
    "    kmedoids = KMedoids(n_clusters=i)\n",
    "    kmedoids.fit(x)\n",
    "    cluster_labels = kmedoids.labels_\n",
    "    # silhouette score\n",
    "    silhouette_avg.append(silhouette_score(x, cluster_labels))\n",
    "plt.plot(K,silhouette_avg,'bx-')\n",
    "plt.xlabel('Values of K') \n",
    "plt.ylabel('Silhouette score') \n",
    "plt.title('Silhouette analysis For Optimal k')\n",
    "plt.show()"
   ]
  },
  {
   "cell_type": "code",
   "execution_count": 21,
   "metadata": {},
   "outputs": [
    {
     "name": "stdout",
     "output_type": "stream",
     "text": [
      "Silhouetter Score: 0.4\n"
     ]
    }
   ],
   "source": [
    "# Calculate Silhoutte Score\n",
    "score = silhouette_score(x, kmedoids.labels_, metric='euclidean')\n",
    "# Print the score\n",
    "print('Silhouetter Score: %.1f' % score)"
   ]
  },
  {
   "cell_type": "code",
   "execution_count": 22,
   "metadata": {},
   "outputs": [],
   "source": [
    "# Applying kmedoids to the dataset \n",
    "kmedoids = KMedoids(n_clusters = 3, init = 'k-medoids++',\n",
    "                max_iter = 300, random_state = 0)\n",
    "y_kmedoids = kmedoids.fit(x)"
   ]
  },
  {
   "cell_type": "code",
   "execution_count": 23,
   "metadata": {},
   "outputs": [
    {
     "data": {
      "text/plain": [
       "KMedoids(init='k-medoids++', n_clusters=3, random_state=0)"
      ]
     },
     "execution_count": 23,
     "metadata": {},
     "output_type": "execute_result"
    }
   ],
   "source": [
    "y_kmedoids"
   ]
  },
  {
   "cell_type": "code",
   "execution_count": 24,
   "metadata": {},
   "outputs": [
    {
     "data": {
      "text/plain": [
       "<matplotlib.legend.Legend at 0x25d1e0d85e0>"
      ]
     },
     "execution_count": 24,
     "metadata": {},
     "output_type": "execute_result"
    },
    {
     "data": {
      "image/png": "[encoded data removed]",
      "text/plain": [
       "<Figure size 1080x432 with 2 Axes>"
      ]
     },
     "metadata": {
      "needs_background": "light"
     },
     "output_type": "display_data"
    }
   ],
   "source": [
    "plt.figure(figsize=(15,6))\n",
    "colors = np.array(['red', 'green', 'blue'])\n",
    "iris_targets_legend = np.array(iris.target_names)\n",
    "red_patch = mpatches.Patch(color='red', label='Setosa')\n",
    "green_patch = mpatches.Patch(color='green', label='Versicolor')\n",
    "blue_patch = mpatches.Patch(color='blue', label='Virginica')\n",
    "\n",
    "# Plotting the centroids of the clusters\n",
    "plt.subplot(1,2,1)\n",
    "plt.scatter(x['Sepal Length'], x['Sepal Width'], c=colors[y['Target']])\n",
    "plt.scatter(kmedoids.cluster_centers_[:, 0], kmedoids.cluster_centers_[:,1], \n",
    "            s = 100, c = 'yellow', label = 'Centroids')\n",
    "plt.title('Sepal Length vs Sepal Width')\n",
    "plt.legend(handles=[red_patch, green_patch, blue_patch])\n",
    "\n",
    "plt.subplot(1,2,2)\n",
    "plt.scatter(x['Petal Length'], x['Petal Width'], c=colors[y['Target']])\n",
    "plt.scatter(kmedoids.cluster_centers_[:, 2], kmedoids.cluster_centers_[:,3], \n",
    "            s = 100, c = 'yellow', label = 'Centroids')\n",
    "plt.title('Petal Length vs Petal Width')\n",
    "plt.legend(handles=[red_patch, green_patch, blue_patch])"
   ]
  },
  {
   "cell_type": "code",
   "execution_count": 25,
   "metadata": {},
   "outputs": [
    {
     "name": "stdout",
     "output_type": "stream",
     "text": [
      "[[5.  3.4 1.5 0.2]\n",
      " [6.5 3.  5.2 2. ]\n",
      " [5.7 2.8 4.1 1.3]]\n"
     ]
    }
   ],
   "source": [
    "print(y_kmedoids.cluster_centers_)"
   ]
  },
  {
   "cell_type": "code",
   "execution_count": 26,
   "metadata": {},
   "outputs": [
    {
     "name": "stdout",
     "output_type": "stream",
     "text": [
      "[0 0 0 0 0 0 0 0 0 0 0 0 0 0 0 0 0 0 0 0 0 0 0 0 0 0 0 0 0 0 0 0 0 0 0 0 0\n",
      " 0 0 0 0 0 0 0 0 0 0 0 0 0 1 1 1 2 1 2 1 2 1 2 2 2 2 2 2 1 2 2 2 2 1 2 1 2\n",
      " 2 2 1 1 2 2 2 2 2 1 2 2 1 2 2 2 2 2 2 2 2 2 2 2 2 2 1 1 1 1 1 1 2 1 1 1 1\n",
      " 1 1 1 1 1 1 1 1 1 1 1 1 1 1 1 1 1 1 1 1 1 1 1 1 1 1 1 1 1 1 1 1 1 1 1 1 1\n",
      " 1 1]\n"
     ]
    }
   ],
   "source": [
    "print(y_kmedoids.labels_)"
   ]
  },
  {
   "cell_type": "code",
   "execution_count": 27,
   "metadata": {},
   "outputs": [
    {
     "data": {
      "text/plain": [
       "array([0, 0, 0, 0, 0, 0, 0, 0, 0, 0, 0, 0, 0, 0, 0, 0, 0, 0, 0, 0, 0, 0,\n",
       "       0, 0, 0, 0, 0, 0, 0, 0, 0, 0, 0, 0, 0, 0, 0, 0, 0, 0, 0, 0, 0, 0,\n",
       "       0, 0, 0, 0, 0, 0, 1, 1, 1, 2, 1, 2, 1, 2, 1, 2, 2, 2, 2, 2, 2, 1,\n",
       "       2, 2, 2, 2, 1, 2, 1, 2, 2, 2, 1, 1, 2, 2, 2, 2, 2, 1, 2, 2, 1, 2,\n",
       "       2, 2, 2, 2, 2, 2, 2, 2, 2, 2, 2, 2, 1, 1, 1, 1, 1, 1, 2, 1, 1, 1,\n",
       "       1, 1, 1, 1, 1, 1, 1, 1, 1, 1, 1, 1, 1, 1, 1, 1, 1, 1, 1, 1, 1, 1,\n",
       "       1, 1, 1, 1, 1, 1, 1, 1, 1, 1, 1, 1, 1, 1, 1, 1, 1, 1], dtype=int64)"
      ]
     },
     "execution_count": 27,
     "metadata": {},
     "output_type": "execute_result"
    }
   ],
   "source": [
    "y2_pred = np.choose(y_kmedoids.labels_, [0, 1, 2]).astype(np.int64)\n",
    "y2_pred"
   ]
  },
  {
   "cell_type": "code",
   "execution_count": 28,
   "metadata": {},
   "outputs": [
    {
     "name": "stdout",
     "output_type": "stream",
     "text": [
      "The Accuracy of Kmedoids is: 0.4266666666666667\n"
     ]
    },
    {
     "data": {
      "text/plain": [
       "array([[50,  0,  0],\n",
       "       [ 0, 13, 37],\n",
       "       [ 0, 49,  1]], dtype=int64)"
      ]
     },
     "execution_count": 28,
     "metadata": {},
     "output_type": "execute_result"
    }
   ],
   "source": [
    "print(\"The Accuracy of Kmedoids is:\",accuracy_score(y, y2_pred))\n",
    "confusion_matrix(y, y2_pred)"
   ]
  },
  {
   "cell_type": "markdown",
   "metadata": {},
   "source": [
    "Total Predictions = 50, TN = 13, FN = 49, FP = 37, TP = 1"
   ]
  },
  {
   "cell_type": "markdown",
   "metadata": {},
   "source": [
    "## Comparison of Actual and KmeansPredicted, KmedoidsPredicted Values"
   ]
  },
  {
   "cell_type": "code",
   "execution_count": 29,
   "metadata": {},
   "outputs": [
    {
     "name": "stdout",
     "output_type": "stream",
     "text": [
      "     Sepal Length  Sepal Width  Petal Length  Petal Width  Target  Kmeans_pred  Kmedoids_pred\n",
      "0             5.1          3.5           1.4          0.2       0            0              0\n",
      "1             4.9          3.0           1.4          0.2       0            0              0\n",
      "2             4.7          3.2           1.3          0.2       0            0              0\n",
      "3             4.6          3.1           1.5          0.2       0            0              0\n",
      "4             5.0          3.6           1.4          0.2       0            0              0\n",
      "5             5.4          3.9           1.7          0.4       0            0              0\n",
      "6             4.6          3.4           1.4          0.3       0            0              0\n",
      "7             5.0          3.4           1.5          0.2       0            0              0\n",
      "8             4.4          2.9           1.4          0.2       0            0              0\n",
      "9             4.9          3.1           1.5          0.1       0            0              0\n",
      "10            5.4          3.7           1.5          0.2       0            0              0\n",
      "11            4.8          3.4           1.6          0.2       0            0              0\n",
      "12            4.8          3.0           1.4          0.1       0            0              0\n",
      "13            4.3          3.0           1.1          0.1       0            0              0\n",
      "14            5.8          4.0           1.2          0.2       0            0              0\n",
      "15            5.7          4.4           1.5          0.4       0            0              0\n",
      "16            5.4          3.9           1.3          0.4       0            0              0\n",
      "17            5.1          3.5           1.4          0.3       0            0              0\n",
      "18            5.7          3.8           1.7          0.3       0            0              0\n",
      "19            5.1          3.8           1.5          0.3       0            0              0\n",
      "20            5.4          3.4           1.7          0.2       0            0              0\n",
      "21            5.1          3.7           1.5          0.4       0            0              0\n",
      "22            4.6          3.6           1.0          0.2       0            0              0\n",
      "23            5.1          3.3           1.7          0.5       0            0              0\n",
      "24            4.8          3.4           1.9          0.2       0            0              0\n",
      "25            5.0          3.0           1.6          0.2       0            0              0\n",
      "26            5.0          3.4           1.6          0.4       0            0              0\n",
      "27            5.2          3.5           1.5          0.2       0            0              0\n",
      "28            5.2          3.4           1.4          0.2       0            0              0\n",
      "29            4.7          3.2           1.6          0.2       0            0              0\n",
      "30            4.8          3.1           1.6          0.2       0            0              0\n",
      "31            5.4          3.4           1.5          0.4       0            0              0\n",
      "32            5.2          4.1           1.5          0.1       0            0              0\n",
      "33            5.5          4.2           1.4          0.2       0            0              0\n",
      "34            4.9          3.1           1.5          0.2       0            0              0\n",
      "35            5.0          3.2           1.2          0.2       0            0              0\n",
      "36            5.5          3.5           1.3          0.2       0            0              0\n",
      "37            4.9          3.6           1.4          0.1       0            0              0\n",
      "38            4.4          3.0           1.3          0.2       0            0              0\n",
      "39            5.1          3.4           1.5          0.2       0            0              0\n",
      "40            5.0          3.5           1.3          0.3       0            0              0\n",
      "41            4.5          2.3           1.3          0.3       0            0              0\n",
      "42            4.4          3.2           1.3          0.2       0            0              0\n",
      "43            5.0          3.5           1.6          0.6       0            0              0\n",
      "44            5.1          3.8           1.9          0.4       0            0              0\n",
      "45            4.8          3.0           1.4          0.3       0            0              0\n",
      "46            5.1          3.8           1.6          0.2       0            0              0\n",
      "47            4.6          3.2           1.4          0.2       0            0              0\n",
      "48            5.3          3.7           1.5          0.2       0            0              0\n",
      "49            5.0          3.3           1.4          0.2       0            0              0\n",
      "50            7.0          3.2           4.7          1.4       1            1              1\n",
      "51            6.4          3.2           4.5          1.5       1            1              1\n",
      "52            6.9          3.1           4.9          1.5       1            2              1\n",
      "53            5.5          2.3           4.0          1.3       1            1              2\n",
      "54            6.5          2.8           4.6          1.5       1            1              1\n",
      "55            5.7          2.8           4.5          1.3       1            1              2\n",
      "56            6.3          3.3           4.7          1.6       1            1              1\n",
      "57            4.9          2.4           3.3          1.0       1            1              2\n",
      "58            6.6          2.9           4.6          1.3       1            1              1\n",
      "59            5.2          2.7           3.9          1.4       1            1              2\n",
      "60            5.0          2.0           3.5          1.0       1            1              2\n",
      "61            5.9          3.0           4.2          1.5       1            1              2\n",
      "62            6.0          2.2           4.0          1.0       1            1              2\n",
      "63            6.1          2.9           4.7          1.4       1            1              2\n",
      "64            5.6          2.9           3.6          1.3       1            1              2\n",
      "65            6.7          3.1           4.4          1.4       1            1              1\n",
      "66            5.6          3.0           4.5          1.5       1            1              2\n",
      "67            5.8          2.7           4.1          1.0       1            1              2\n",
      "68            6.2          2.2           4.5          1.5       1            1              2\n",
      "69            5.6          2.5           3.9          1.1       1            1              2\n",
      "70            5.9          3.2           4.8          1.8       1            1              1\n",
      "71            6.1          2.8           4.0          1.3       1            1              2\n",
      "72            6.3          2.5           4.9          1.5       1            1              1\n",
      "73            6.1          2.8           4.7          1.2       1            1              2\n",
      "74            6.4          2.9           4.3          1.3       1            1              2\n",
      "75            6.6          3.0           4.4          1.4       1            1              2\n",
      "76            6.8          2.8           4.8          1.4       1            1              1\n",
      "77            6.7          3.0           5.0          1.7       1            2              1\n",
      "78            6.0          2.9           4.5          1.5       1            1              2\n",
      "79            5.7          2.6           3.5          1.0       1            1              2\n",
      "80            5.5          2.4           3.8          1.1       1            1              2\n",
      "81            5.5          2.4           3.7          1.0       1            1              2\n",
      "82            5.8          2.7           3.9          1.2       1            1              2\n",
      "83            6.0          2.7           5.1          1.6       1            1              1\n",
      "84            5.4          3.0           4.5          1.5       1            1              2\n",
      "85            6.0          3.4           4.5          1.6       1            1              2\n",
      "86            6.7          3.1           4.7          1.5       1            1              1\n",
      "87            6.3          2.3           4.4          1.3       1            1              2\n",
      "88            5.6          3.0           4.1          1.3       1            1              2\n",
      "89            5.5          2.5           4.0          1.3       1            1              2\n",
      "90            5.5          2.6           4.4          1.2       1            1              2\n",
      "91            6.1          3.0           4.6          1.4       1            1              2\n",
      "92            5.8          2.6           4.0          1.2       1            1              2\n",
      "93            5.0          2.3           3.3          1.0       1            1              2\n",
      "94            5.6          2.7           4.2          1.3       1            1              2\n",
      "95            5.7          3.0           4.2          1.2       1            1              2\n",
      "96            5.7          2.9           4.2          1.3       1            1              2\n",
      "97            6.2          2.9           4.3          1.3       1            1              2\n",
      "98            5.1          2.5           3.0          1.1       1            1              2\n",
      "99            5.7          2.8           4.1          1.3       1            1              2\n",
      "100           6.3          3.3           6.0          2.5       2            2              1\n",
      "101           5.8          2.7           5.1          1.9       2            1              1\n",
      "102           7.1          3.0           5.9          2.1       2            2              1\n",
      "103           6.3          2.9           5.6          1.8       2            2              1\n",
      "104           6.5          3.0           5.8          2.2       2            2              1\n",
      "105           7.6          3.0           6.6          2.1       2            2              1\n",
      "106           4.9          2.5           4.5          1.7       2            1              2\n",
      "107           7.3          2.9           6.3          1.8       2            2              1\n",
      "108           6.7          2.5           5.8          1.8       2            2              1\n",
      "109           7.2          3.6           6.1          2.5       2            2              1\n",
      "110           6.5          3.2           5.1          2.0       2            2              1\n",
      "111           6.4          2.7           5.3          1.9       2            2              1\n",
      "112           6.8          3.0           5.5          2.1       2            2              1\n",
      "113           5.7          2.5           5.0          2.0       2            1              1\n",
      "114           5.8          2.8           5.1          2.4       2            1              1\n",
      "115           6.4          3.2           5.3          2.3       2            2              1\n",
      "116           6.5          3.0           5.5          1.8       2            2              1\n",
      "117           7.7          3.8           6.7          2.2       2            2              1\n",
      "118           7.7          2.6           6.9          2.3       2            2              1\n",
      "119           6.0          2.2           5.0          1.5       2            1              1\n",
      "120           6.9          3.2           5.7          2.3       2            2              1\n",
      "121           5.6          2.8           4.9          2.0       2            1              1\n",
      "122           7.7          2.8           6.7          2.0       2            2              1\n",
      "123           6.3          2.7           4.9          1.8       2            1              1\n",
      "124           6.7          3.3           5.7          2.1       2            2              1\n",
      "125           7.2          3.2           6.0          1.8       2            2              1\n",
      "126           6.2          2.8           4.8          1.8       2            1              1\n",
      "127           6.1          3.0           4.9          1.8       2            1              1\n",
      "128           6.4          2.8           5.6          2.1       2            2              1\n",
      "129           7.2          3.0           5.8          1.6       2            2              1\n",
      "130           7.4          2.8           6.1          1.9       2            2              1\n",
      "131           7.9          3.8           6.4          2.0       2            2              1\n",
      "132           6.4          2.8           5.6          2.2       2            2              1\n",
      "133           6.3          2.8           5.1          1.5       2            1              1\n",
      "134           6.1          2.6           5.6          1.4       2            2              1\n",
      "135           7.7          3.0           6.1          2.3       2            2              1\n",
      "136           6.3          3.4           5.6          2.4       2            2              1\n",
      "137           6.4          3.1           5.5          1.8       2            2              1\n",
      "138           6.0          3.0           4.8          1.8       2            1              1\n",
      "139           6.9          3.1           5.4          2.1       2            2              1\n",
      "140           6.7          3.1           5.6          2.4       2            2              1\n",
      "141           6.9          3.1           5.1          2.3       2            2              1\n",
      "142           5.8          2.7           5.1          1.9       2            1              1\n",
      "143           6.8          3.2           5.9          2.3       2            2              1\n",
      "144           6.7          3.3           5.7          2.5       2            2              1\n",
      "145           6.7          3.0           5.2          2.3       2            2              1\n",
      "146           6.3          2.5           5.0          1.9       2            1              1\n",
      "147           6.5          3.0           5.2          2.0       2            2              1\n",
      "148           6.2          3.4           5.4          2.3       2            2              1\n",
      "149           5.9          3.0           5.1          1.8       2            1              1\n"
     ]
    }
   ],
   "source": [
    "A_P = pd.DataFrame({'Sepal Length' : x['Sepal Length'],\n",
    "                    'Sepal Width' : x['Sepal Width'],\n",
    "                    'Petal Length' : x['Petal Length'],\n",
    "                    'Petal Width' : x['Petal Width'],\n",
    "                    'Target' : y['Target'],\n",
    "                    'Kmeans_pred' : y1_pred,\n",
    "                    'Kmedoids_pred' : y2_pred\n",
    "                   }, \n",
    "                   columns=['Sepal Length','Sepal Width','Petal Length','Petal Width',\n",
    "                            'Target','Kmeans_pred','Kmedoids_pred'])\n",
    "print(A_P.to_string())"
   ]
  },
  {
   "cell_type": "code",
   "execution_count": 30,
   "metadata": {},
   "outputs": [
    {
     "data": {
      "text/plain": [
       "2    50\n",
       "1    50\n",
       "0    50\n",
       "Name: Target, dtype: int64"
      ]
     },
     "execution_count": 30,
     "metadata": {},
     "output_type": "execute_result"
    }
   ],
   "source": [
    "A_P['Target'].value_counts()"
   ]
  },
  {
   "cell_type": "code",
   "execution_count": 31,
   "metadata": {},
   "outputs": [
    {
     "data": {
      "text/plain": [
       "1    62\n",
       "0    50\n",
       "2    38\n",
       "Name: Kmeans_pred, dtype: int64"
      ]
     },
     "execution_count": 31,
     "metadata": {},
     "output_type": "execute_result"
    }
   ],
   "source": [
    "A_P['Kmeans_pred'].value_counts()"
   ]
  },
  {
   "cell_type": "code",
   "execution_count": 32,
   "metadata": {},
   "outputs": [
    {
     "data": {
      "text/plain": [
       "1    62\n",
       "0    50\n",
       "2    38\n",
       "Name: Kmedoids_pred, dtype: int64"
      ]
     },
     "execution_count": 32,
     "metadata": {},
     "output_type": "execute_result"
    }
   ],
   "source": [
    "A_P['Kmedoids_pred'].value_counts()"
   ]
  },
  {
   "cell_type": "code",
   "execution_count": 33,
   "metadata": {},
   "outputs": [
    {
     "name": "stdout",
     "output_type": "stream",
     "text": [
      "versicolor\n",
      "Prediction of Species: 1\n"
     ]
    }
   ],
   "source": [
    "Prediction = y_kmeans.predict([[5.5,2.3,4.0,1.3]])[0]\n",
    "print(iris.target_names[Prediction])\n",
    "print(\"Prediction of Species: {}\".format(Prediction))"
   ]
  },
  {
   "cell_type": "code",
   "execution_count": 34,
   "metadata": {},
   "outputs": [
    {
     "name": "stdout",
     "output_type": "stream",
     "text": [
      "virginica\n",
      "Prediction of Species: 2\n"
     ]
    }
   ],
   "source": [
    "Prediction = y_kmedoids.predict([[5.5,2.3,4.0,1.3]])[0]\n",
    "print(iris.target_names[Prediction])\n",
    "print(\"Prediction of Species: {}\".format(Prediction))"
   ]
  },
  {
   "cell_type": "code",
   "execution_count": 35,
   "metadata": {},
   "outputs": [],
   "source": [
    "#x.to_excel('iris.xlsx',index=False)"
   ]
  },
  {
   "cell_type": "code",
   "execution_count": 36,
   "metadata": {},
   "outputs": [],
   "source": [
    "#y.to_excel('target.xlsx',index=False)"
   ]
  }
 ],
 "metadata": {
  "kernelspec": {
   "display_name": "Python 3",
   "language": "python",
   "name": "python3"
  },
  "language_info": {
   "codemirror_mode": {
    "name": "ipython",
    "version": 3
   },
   "file_extension": ".py",
   "mimetype": "text/x-python",
   "name": "python",
   "nbconvert_exporter": "python",
   "pygments_lexer": "ipython3",
   "version": "3.8.3"
  }
 },
 "nbformat": 4,
 "nbformat_minor": 4
}
